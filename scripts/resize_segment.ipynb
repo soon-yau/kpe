{
 "cells": [
  {
   "cell_type": "code",
   "execution_count": 2,
   "id": "ac576a38",
   "metadata": {},
   "outputs": [],
   "source": [
    "import os, sys\n",
    "sys.path.append(os.path.dirname(os.getcwd()))\n",
    "\n",
    "import cv2\n",
    "from scipy.io import loadmat\n",
    "import matplotlib.pyplot as plt\n",
    "import pandas as pd\n",
    "from tqdm import tqdm\n",
    "import numpy as np\n",
    "import random\n",
    "from core.segment import Segmentor"
   ]
  },
  {
   "cell_type": "code",
   "execution_count": 3,
   "id": "3c247b82",
   "metadata": {},
   "outputs": [
    {
     "name": "stderr",
     "output_type": "stream",
     "text": [
      "Using cache found in /home/soon/.cache/torch/hub/pytorch_vision_v0.10.0\n"
     ]
    }
   ],
   "source": [
    "TARGET_DIM = 256 # target resolution\n",
    "segmentor = Segmentor()"
   ]
  },
  {
   "cell_type": "code",
   "execution_count": 4,
   "id": "bfe5c1f0",
   "metadata": {},
   "outputs": [],
   "source": [
    "df = pd.read_pickle(\"../data/deepfashion_1.pickle\")\n",
    "image_files = list(df.image)"
   ]
  },
  {
   "cell_type": "code",
   "execution_count": 7,
   "id": "2f41bd69",
   "metadata": {},
   "outputs": [],
   "source": [
    "src_dir = '../data/img_highres/'\n",
    "dst_dir = '../data/img_256/'\n",
    "mask_dir = '../data/mask_256/'"
   ]
  },
  {
   "cell_type": "markdown",
   "id": "3b4106ab",
   "metadata": {},
   "source": [
    "# Resize high resolution to 256x256"
   ]
  },
  {
   "cell_type": "code",
   "execution_count": 8,
   "id": "51dd0ef2",
   "metadata": {},
   "outputs": [
    {
     "name": "stderr",
     "output_type": "stream",
     "text": [
      "\r",
      "  0%|                                                     | 0/1 [00:00<?, ?it/s]"
     ]
    },
    {
     "name": "stdout",
     "output_type": "stream",
     "text": [
      "../data/img_highres/Sheer_Pleated-Front_Blouse/img_00000001.jpg ../data/img_256/Sheer_Pleated-Front_Blouse/img_00000001.jpg ../data/mask_256/Sheer_Pleated-Front_Blouse/img_00000001.bmp\n"
     ]
    },
    {
     "name": "stderr",
     "output_type": "stream",
     "text": [
      "100%|█████████████████████████████████████████████| 1/1 [00:00<00:00,  1.58it/s]\n"
     ]
    }
   ],
   "source": [
    "for image_fname in tqdm(image_files):\n",
    "    src_file = os.path.join(src_dir,image_fname)\n",
    "    dst_file = os.path.join(dst_dir,image_fname)\n",
    "    mask_file = os.path.join(mask_dir, image_fname.replace('.jpg', '.bmp'))\n",
    "    os.makedirs(os.path.dirname(dst_file), exist_ok=True)\n",
    "    os.makedirs(os.path.dirname(mask_file), exist_ok=True)\n",
    "    \n",
    "    img = cv2.imread(src_file)\n",
    "    if img is None:\n",
    "        continue\n",
    "    \n",
    "    h, w, _ = img.shape\n",
    "    if h>w:\n",
    "        pad = (h-w)//2\n",
    "        img = cv2.copyMakeBorder(img, top=0, bottom=0, left=pad, right=pad,\n",
    "                                       borderType=cv2.BORDER_REPLICATE)\n",
    "    elif h<w:\n",
    "        pad = w-h\n",
    "        img = cv2.copyMakeBorder(img, top=pad, bottom=0, left=0, right=0,\n",
    "                                       borderType=cv2.BORDER_REPLICATE)\n",
    "    h, w, _ = img.shape\n",
    "    \n",
    "    if h!=TARGET_DIM or w!=TARGET_DIM:\n",
    "        img = cv2.resize(img, (TARGET_DIM, TARGET_DIM), cv2.INTER_AREA)\n",
    "    \n",
    "    cv2.imwrite(dst_file, img)    \n",
    "\n",
    "    # get mask\n",
    "    _, mask = segmentor(img)\n",
    "    cv2.imwrite(bmp_name, mask)\n"
   ]
  }
 ],
 "metadata": {
  "kernelspec": {
   "display_name": "vqgan_clip",
   "language": "python",
   "name": "vqgan_clip"
  },
  "language_info": {
   "codemirror_mode": {
    "name": "ipython",
    "version": 3
   },
   "file_extension": ".py",
   "mimetype": "text/x-python",
   "name": "python",
   "nbconvert_exporter": "python",
   "pygments_lexer": "ipython3",
   "version": "3.9.7"
  }
 },
 "nbformat": 4,
 "nbformat_minor": 5
}
