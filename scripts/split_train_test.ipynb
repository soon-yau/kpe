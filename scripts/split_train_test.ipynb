{
 "cells": [
  {
   "cell_type": "code",
   "execution_count": 1,
   "id": "667a7ee4",
   "metadata": {},
   "outputs": [],
   "source": [
    "import pandas as pd\n",
    "from sklearn.model_selection import train_test_split"
   ]
  },
  {
   "cell_type": "code",
   "execution_count": 23,
   "id": "f224ba77",
   "metadata": {},
   "outputs": [],
   "source": [
    "df = pd.read_pickle('../data/deepfashion_123.pickle')"
   ]
  },
  {
   "cell_type": "code",
   "execution_count": 28,
   "id": "71110209",
   "metadata": {},
   "outputs": [],
   "source": [
    "df['pose_count']=df.pose_score.map(lambda x:len(x) if x is not None else 0)\n",
    "df.drop(df[df['pose_count']!=df['num_people']].index, inplace=True)"
   ]
  },
  {
   "cell_type": "code",
   "execution_count": 29,
   "id": "b56332c4",
   "metadata": {},
   "outputs": [],
   "source": [
    "train_df, test_df = train_test_split(df, test_size=1000)\n",
    "test_df.reset_index(inplace=True)\n",
    "train_df.reset_index(inplace=True)"
   ]
  },
  {
   "cell_type": "code",
   "execution_count": 30,
   "id": "039183a5",
   "metadata": {},
   "outputs": [],
   "source": [
    "train_df.to_pickle('../data/deepfashion_123_train.pickle')\n",
    "test_df.to_pickle('../data/deepfashion_123_test.pickle')"
   ]
  }
 ],
 "metadata": {
  "kernelspec": {
   "display_name": "Python 3 (ipykernel)",
   "language": "python",
   "name": "python3"
  },
  "language_info": {
   "codemirror_mode": {
    "name": "ipython",
    "version": 3
   },
   "file_extension": ".py",
   "mimetype": "text/x-python",
   "name": "python",
   "nbconvert_exporter": "python",
   "pygments_lexer": "ipython3",
   "version": "3.9.7"
  }
 },
 "nbformat": 4,
 "nbformat_minor": 5
}
