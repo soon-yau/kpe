{
 "cells": [
  {
   "cell_type": "code",
   "execution_count": 3,
   "id": "8676d33e",
   "metadata": {},
   "outputs": [],
   "source": [
    "import cv2\n",
    "from glob import glob\n",
    "import matplotlib.pyplot as plt\n",
    "import numpy as np\n",
    "import sys\n",
    "sys.path.append('/usr/local/python')\n",
    "from openpose import pyopenpose as op\n",
    "import pandas as pd\n",
    "import os\n",
    "from tqdm import tqdm\n",
    "import argparse\n",
    "import os\n"
   ]
  },
  {
   "cell_type": "code",
   "execution_count": null,
   "id": "803692d7",
   "metadata": {},
   "outputs": [],
   "source": [
    "OPENPOSE_MODEL_DIR = \"/home/soon/github/openpose/models\" # openpose/models"
   ]
  },
  {
   "cell_type": "code",
   "execution_count": 2,
   "id": "9fa99a44",
   "metadata": {},
   "outputs": [],
   "source": [
    "df = pd.read_pickle('../data/deepfashion_1.pickle')"
   ]
  },
  {
   "cell_type": "code",
   "execution_count": null,
   "id": "b7a6e544",
   "metadata": {},
   "outputs": [],
   "source": [
    "params = dict()\n",
    "params[\"model_folder\"] = OPENPOSE_MODEL_DIR\n",
    "params[\"disable_blending\"] = True\n",
    "params[\"keypoint_scale\"] = 3 #normalise keypoints to [0,1]\n",
    "params[\"num_gpu\"] = 1\n",
    "params[\"num_gpu_start\"] = args.gpu\n",
    "params[\"number_people_max\"] = args.number_people_max\n"
   ]
  },
  {
   "cell_type": "code",
   "execution_count": null,
   "id": "6e133ba9",
   "metadata": {},
   "outputs": [],
   "source": [
    "parser = argparse.ArgumentParser()\n",
    "parser.add_argument('--gpu', type=int, default=0)\n",
    "parser.add_argument('--folder', type=str)\n",
    "parser.add_argument('--output_name', type=str)\n",
    "parser.add_argument('--number_people_max', type=int, default=4)\n",
    "\n",
    "args = parser.parse_args()\n",
    "\n",
    "#folder = os.path.join(args.folder, '*')\n",
    "folder = args.folder\n",
    "image_files = glob(folder,recursive=False)\n",
    "image_files.sort()\n",
    "print(f\"Found {len(image_files)} files.\")\n",
    "\n",
    "\n",
    "opWrapper = op.WrapperPython()\n",
    "opWrapper.configure(params)\n",
    "opWrapper.start()\n",
    "\n",
    "\n",
    "column_names = [\"image\", \"pose_score\", \"keypoints\"]\n",
    "df = pd.DataFrame(columns=column_names)\n",
    "\n",
    "for image_path in tqdm(image_files):\n",
    "    datum = op.Datum()\n",
    "    imageToProcess = cv2.imread(image_path)\n",
    "    datum.cvInputData = imageToProcess\n",
    "    opWrapper.emplaceAndPop(op.VectorDatum([datum]))\n",
    "    scores = datum.poseScores\n",
    "    try:\n",
    "        if scores is not None:\n",
    "            fname = image_path.replace(args.folder,'')\n",
    "            row = {'image':fname, \n",
    "                   'pose_score':datum.poseScores, \n",
    "                   'keypoints':datum.poseKeypoints}\n",
    "            df = df.append(row, ignore_index=True)\n",
    "    except Exception as e:\n",
    "        print(e, image_path)\n",
    "\n",
    "df.to_pickle(args.output_name)\n",
    "print(f\"Save into {args.output_name}\")\n",
    "\n"
   ]
  }
 ],
 "metadata": {
  "kernelspec": {
   "display_name": "vqgan_clip",
   "language": "python",
   "name": "vqgan_clip"
  },
  "language_info": {
   "codemirror_mode": {
    "name": "ipython",
    "version": 3
   },
   "file_extension": ".py",
   "mimetype": "text/x-python",
   "name": "python",
   "nbconvert_exporter": "python",
   "pygments_lexer": "ipython3",
   "version": "3.9.7"
  }
 },
 "nbformat": 4,
 "nbformat_minor": 5
}
