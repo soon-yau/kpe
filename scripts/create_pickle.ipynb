{
 "cells": [
  {
   "cell_type": "code",
   "execution_count": 1,
   "id": "fbde5b2a",
   "metadata": {},
   "outputs": [],
   "source": [
    "import os, sys, re\n",
    "import cv2\n",
    "from scipy.io import loadmat\n",
    "import pandas as pd\n",
    "import numpy as np"
   ]
  },
  {
   "cell_type": "code",
   "execution_count": 7,
   "id": "035e36aa",
   "metadata": {},
   "outputs": [],
   "source": [
    "language = loadmat('../data/language_original.mat')\n",
    "subset = loadmat('../data/subset_index.mat')\n",
    "\n",
    "captions = [[x[0][0]] for x in language['engJ']]\n",
    "image_files = [x[0][0].split('img/')[-1] for x in subset['nameList']]\n",
    "\n",
    "df = pd.DataFrame({'image':image_files,\n",
    "                   'text':captions,\n",
    "                   'num_people':1,\n",
    "                   'keypoints':np.nan,\n",
    "                   'pose_score':np.nan})\n",
    "\n",
    "reg = re.compile('women|woman|lady|girl')\n",
    "df['female'] = df.text.map(lambda x: 1 if reg.search(x[0]) else 0)\n",
    "df['male'] = 1^ df['female']"
   ]
  },
  {
   "cell_type": "code",
   "execution_count": 21,
   "id": "85318bea",
   "metadata": {},
   "outputs": [],
   "source": [
    "df.to_pickle(\"../data/deepfashion_1.pickle\")"
   ]
  }
 ],
 "metadata": {
  "kernelspec": {
   "display_name": "Python 3 (ipykernel)",
   "language": "python",
   "name": "python3"
  },
  "language_info": {
   "codemirror_mode": {
    "name": "ipython",
    "version": 3
   },
   "file_extension": ".py",
   "mimetype": "text/x-python",
   "name": "python",
   "nbconvert_exporter": "python",
   "pygments_lexer": "ipython3",
   "version": "3.9.7"
  }
 },
 "nbformat": 4,
 "nbformat_minor": 5
}
