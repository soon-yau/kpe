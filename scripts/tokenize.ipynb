{
 "cells": [
  {
   "cell_type": "code",
   "execution_count": 1,
   "id": "52a6fbbe",
   "metadata": {},
   "outputs": [],
   "source": [
    "import pandas as pd\n",
    "from tokenizers import ByteLevelBPETokenizer"
   ]
  },
  {
   "cell_type": "code",
   "execution_count": 18,
   "id": "bb8e73c5",
   "metadata": {},
   "outputs": [],
   "source": [
    "df = pd.read_pickle('../data/deepfashion_1.pickle')\n",
    "tokenizer = ByteLevelBPETokenizer(lowercase=True)"
   ]
  },
  {
   "cell_type": "code",
   "execution_count": 28,
   "id": "a6871b80",
   "metadata": {},
   "outputs": [],
   "source": [
    "texts = [text[0] for text in list(df.text)]"
   ]
  },
  {
   "cell_type": "code",
   "execution_count": 29,
   "id": "567166e5",
   "metadata": {},
   "outputs": [],
   "source": [
    "with open('temp.txt', 'w') as f:\n",
    "    for item in texts:\n",
    "        f.write(f\"{item}\\n\")"
   ]
  },
  {
   "cell_type": "code",
   "execution_count": 30,
   "id": "ffcc14c2",
   "metadata": {},
   "outputs": [
    {
     "name": "stdout",
     "output_type": "stream",
     "text": [
      "\n",
      "\n",
      "\n"
     ]
    }
   ],
   "source": [
    "tokenizer.train(files=['temp.txt']) \n",
    "tokenizer.save(\"../tokenizer-deepfashion.json\")"
   ]
  },
  {
   "cell_type": "code",
   "execution_count": 31,
   "id": "1de3d3d0",
   "metadata": {},
   "outputs": [
    {
     "data": {
      "text/plain": [
       "Tokenizer(vocabulary_size=256, model=ByteLevelBPE, add_prefix_space=False, lowercase=True, dropout=None, unicode_normalizer=None, continuing_subword_prefix=None, end_of_word_suffix=None, trim_offsets=False)"
      ]
     },
     "execution_count": 31,
     "metadata": {},
     "output_type": "execute_result"
    }
   ],
   "source": [
    "tokenizer"
   ]
  }
 ],
 "metadata": {
  "kernelspec": {
   "display_name": "vqgan_clip",
   "language": "python",
   "name": "vqgan_clip"
  },
  "language_info": {
   "codemirror_mode": {
    "name": "ipython",
    "version": 3
   },
   "file_extension": ".py",
   "mimetype": "text/x-python",
   "name": "python",
   "nbconvert_exporter": "python",
   "pygments_lexer": "ipython3",
   "version": "3.9.7"
  }
 },
 "nbformat": 4,
 "nbformat_minor": 5
}
